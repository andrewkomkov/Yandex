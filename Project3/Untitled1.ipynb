{
 "cells": [
  {
   "cell_type": "code",
   "execution_count": null,
   "metadata": {},
   "outputs": [],
   "source": [
    ".rename(columns={'income1': 'Январь',\n",
    "                                                                              'income2':'Февраль',\n",
    "                                                                             'income3':'Март',\n",
    "                                                                             'income4':'Апрель',\n",
    "                                                                             'income5':'Май',\n",
    "                                                                             'income6':'Июнь',\n",
    "                                                                             'income7':'Июль',\n",
    "                                                                             'income8':'Август',\n",
    "                                                                             'income9':'Сентябрь',\n",
    "                                                                             'income10':'Октябрь',\n",
    "                                                                             'income11':'Ноябрь',\n",
    "                                                                             'income12':'Декабрь'}, inplace=True)"
   ]
  },
  {
   "cell_type": "markdown",
   "metadata": {},
   "source": [
    "income_data.rename(columns={'income1': 'Январь',                             'income2':'Февраль',\n",
    "                                                                             'income3':'Март',\n",
    "                                                                             'income4':'Апрель',\n",
    "                                                                             'income5':'Май',\n",
    "                                                                             'income6':'Июнь',\n",
    "                                                                             'income7':'Июль',\n",
    "                                                                             'income8':'Август',\n",
    "                                                                             'income9':'Сентябрь',\n",
    "                                                                             'income10':'Октябрь',\n",
    "                                                                             'income11':'Ноябрь',\n",
    "                                                                             'income12':'Декабрь'}, inplace=True)"
   ]
  },
  {
   "cell_type": "code",
   "execution_count": 1,
   "metadata": {},
   "outputs": [
    {
     "name": "stdout",
     "output_type": "stream",
     "text": [
      "p-значение: 0.002042828065164986\n",
      "Отвергаем нулевую гипотезу\n"
     ]
    }
   ],
   "source": [
    "from scipy import stats as st\n",
    "import numpy as np\n",
    "\n",
    "pages_per_session_autumn = [7.1, 7.3, 9.8, 7.3, 6.4, 10.5, 8.7, \n",
    "                            17.5, 3.3, 15.5, 16.2, 0.4, 8.3, \n",
    "                            8.1, 3.0, 6.1, 4.4, 18.8, 14.7, 16.4, \n",
    "                            13.6, 4.4, 7.4, 12.4, 3.9, 13.6, \n",
    "                            8.8, 8.1, 13.6, 12.2]\n",
    "pages_per_session_summer = [12.1, 24.3, 6.4, 19.9, 19.7, 12.5, 17.6, \n",
    "                            5.0, 22.4, 13.5, 10.8, 23.4, 9.4, 3.7, \n",
    "                            2.5, 19.8, 4.8, 29.0, 1.7, 28.6, 16.7, \n",
    "                            14.2, 10.6, 18.2, 14.7, 23.8, 15.9, 16.2, \n",
    "                            12.1, 14.5]\n",
    "\n",
    "alpha = .05\n",
    "\n",
    "results = st.ttest_ind(\n",
    "    pages_per_session_autumn,\n",
    "    pages_per_session_summer)\n",
    "\n",
    "print('p-значение:', results.pvalue)\n",
    "\n",
    "if (results.pvalue < alpha):\n",
    "    print(\"Отвергаем нулевую гипотезу\")\n",
    "else:\n",
    "    print(\"Не получилось отвергнуть нулевую гипотезу\")"
   ]
  },
  {
   "cell_type": "code",
   "execution_count": null,
   "metadata": {},
   "outputs": [],
   "source": []
  }
 ],
 "metadata": {
  "kernelspec": {
   "display_name": "Python 3",
   "language": "python",
   "name": "python3"
  },
  "language_info": {
   "codemirror_mode": {
    "name": "ipython",
    "version": 3
   },
   "file_extension": ".py",
   "mimetype": "text/x-python",
   "name": "python",
   "nbconvert_exporter": "python",
   "pygments_lexer": "ipython3",
   "version": "3.7.4"
  }
 },
 "nbformat": 4,
 "nbformat_minor": 4
}
